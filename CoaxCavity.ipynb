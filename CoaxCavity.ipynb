{
 "cells": [
  {
   "cell_type": "code",
   "execution_count": 1,
   "id": "7f79bcad",
   "metadata": {},
   "outputs": [],
   "source": [
    "%load_ext autoreload\n",
    "%autoreload 2"
   ]
  },
  {
   "cell_type": "code",
   "execution_count": 2,
   "id": "9a58a48f",
   "metadata": {},
   "outputs": [],
   "source": [
    "import mph\n",
    "import pprint\n",
    "from jpype.types import JInt, JDouble, JArray, JString\n",
    "\n",
    "from pathlib import Path\n",
    "import sys\n",
    "sys.path.append(str(Path.cwd() / 'util/'))\n",
    "\n",
    "from functions import *\n",
    "\n",
    "config = load_config( \"config/CoaxCavity.yaml\" )"
   ]
  },
  {
   "cell_type": "code",
   "execution_count": 3,
   "id": "e7661e6d",
   "metadata": {},
   "outputs": [],
   "source": [
    "client = mph.start()\n",
    "pymodel = client.create('CoaxCavity')"
   ]
  },
  {
   "cell_type": "code",
   "execution_count": 4,
   "id": "6c2e7c9c",
   "metadata": {},
   "outputs": [],
   "source": [
    "parameters = pymodel/'parameters'\n",
    "(parameters/'Parameters 1').rename('Parameters')\n",
    "\n",
    "for parameter in config['parameter']:\n",
    "    value = config['parameter'][parameter]\n",
    "    pymodel.parameter( parameter, value)"
   ]
  },
  {
   "cell_type": "code",
   "execution_count": 5,
   "id": "254218d4",
   "metadata": {},
   "outputs": [
    {
     "data": {
      "text/plain": [
       "<java object 'com.comsol.clientapi.impl.GeomSequenceClient'>"
      ]
     },
     "execution_count": 5,
     "metadata": {},
     "output_type": "execute_result"
    }
   ],
   "source": [
    "model = pymodel.java\n",
    "comp1 = model.component().create(\"comp1\", True)\n",
    "\n",
    "geom1 = comp1.geom().create(\"geom1\", 3) # 3 means 3D\n",
    "geom1.lengthUnit(\"mm\")\n",
    "geom1.run()\n",
    "\n",
    "\n",
    "boundary = geom1.create(\"boundary\", \"Block\")\n",
    "boundary.set(\"pos\", [\"-box_length/2\", \"-box_length/2\", \"outer_height - box_height\"])\n",
    "boundary.set(\"size\", [\"box_length\", \"box_length\", \"box_height\"])\n",
    "geom1.run(\"boundary\")\n",
    "\n",
    "# Make cavity box \n",
    "block1 = geom1.create(\"block1\", \"Block\")\n",
    "block1.set(\"pos\", [\"-box_length/2\", \"-box_length/2\", \"outer_height - box_height\"])\n",
    "block1.set(\"size\", [\"box_length\", \"box_length\", \"box_height\"])\n",
    "geom1.run(\"block1\")\n",
    "\n",
    "# Work plane 1\n",
    "wp1 = geom1.create(\"wp1\", \"WorkPlane\")\n",
    "wp1.set(\"unite\", True)\n",
    "c1 = wp1.geom().create(\"c1\", \"Circle\")\n",
    "c1.set(\"pos\",  [0., 0.] )\n",
    "c1.set(\"r\", 'outer_radius')\n",
    "wp1.geom().run(\"c1\")\n",
    "\n",
    "# Extrude 1\n",
    "ext1 = geom1.create(\"ext1\", \"Extrude\")\n",
    "ext1.set(\"workplane\", \"wp1\")\n",
    "ext1.selection(\"input\").set(\"wp1\")\n",
    "ext1.setIndex(\"distance\", 'outer_height', 0) # 0 means first row ?\n",
    "geom1.run(\"ext1\")\n",
    "\n",
    "# Work plane 2\n",
    "wp2 = geom1.create(\"wp2\", \"WorkPlane\")\n",
    "wp2.set(\"unite\", True)\n",
    "c2 = wp2.geom().create(\"c2\", \"Circle\")\n",
    "c2.set(\"pos\",  [0., 0.] )\n",
    "c2.set(\"r\", 'coax_radius')\n",
    "wp2.geom().run(\"c2\")\n",
    "\n",
    "# Extrude 2\n",
    "ext2 = geom1.create(\"ext2\", \"Extrude\")\n",
    "ext2.set(\"workplane\", \"wp2\")\n",
    "ext2.selection(\"input\").set(\"wp2\")\n",
    "ext2.setIndex(\"distance\", 'coax_height', 0)\n",
    "geom1.run(\"ext2\")\n",
    "\n",
    "# Subtract\n",
    "diff1 = geom1.create(\"diff1\", \"Difference\")\n",
    "diff1.selection(\"input\").set(\"block1\")\n",
    "diff1.selection(\"input2\").set(\"ext1\")\n",
    "geom1.run(\"diff1\")\n",
    "\n",
    "# Union 1\n",
    "uni1 = geom1.create(\"uni1\", \"Union\")\n",
    "uni1.selection(\"input\").set(\"diff1\", \"ext2\")\n",
    "uni1.set(\"intbnd\", False)\n",
    "geom1.run(\"uni1\")\n",
    "\n",
    "# Work plane 6\n",
    "wp6 = geom1.create(\"wp6\", \"WorkPlane\")\n",
    "wp6.set(\"unite\", True)\n",
    "wp6.set(\"quickz\", \"chip_pos_z - wafer_height\")\n",
    "r3 = wp6.geom().create(\"r3\", \"Rectangle\")\n",
    "r3.set(\"base\", \"center\")\n",
    "r3.set(\"pos\", ['0', 'chip_pos_y'])\n",
    "r3.set(\"size\", ['wafer_width', 'wafer_length'])\n",
    "wp6.geom().run(\"r3\")\n",
    "wp6.label(\"Chip\")\n",
    "geom1.run(\"wp6\")\n",
    "\n",
    "# Extrude 6\n",
    "ext6 = geom1.create(\"ext6\", \"Extrude\")\n",
    "ext6.set(\"workplane\", \"wp6\")\n",
    "ext6.selection(\"input\").set(\"wp6\")\n",
    "ext6.setIndex(\"distance\", 'wafer_height', 0)\n",
    "geom1.run(\"ext6\")\n",
    "\n",
    "# Work plane 7\n",
    "wp7 = geom1.create(\"wp7\", \"WorkPlane\")\n",
    "wp7.set(\"unite\", True)\n",
    "wp7.set(\"quickz\", \"chip_pos_z\")\n",
    "r4 = wp7.geom().create(\"r4\", \"Rectangle\")\n",
    "r4.set(\"size\", ['chip_width', 'chip_height'])\n",
    "r4.set(\"base\", \"center\")\n",
    "r4.set(\"pos\", ['0', 'chip_pos_y + chip_height/2 + chip_gap/2'])\n",
    "wp7.geom().run(\"r4\")\n",
    "\n",
    "fil3 = wp7.geom().create(\"fil3\", \"Fillet\")\n",
    "fil3.selection(\"pointinsketch\").set(\"r4\", 1, 2, 3, 4)\n",
    "fil3.set(\"radius\", 'chip_fillet')\n",
    "wp7.geom().run(\"fil3\")\n",
    "\n",
    "r5 = wp7.geom().create(\"r5\", \"Rectangle\")\n",
    "r5.set(\"base\", \"center\")\n",
    "r5.set(\"pos\", ['0', 'chip_pos_y + jj_height/2 + finger_height/2'])\n",
    "r5.set(\"size\", [\"jj_width\", \"finger_height\"])\n",
    "wp7.geom().run(\"r5\")\n",
    "\n",
    "# Union 2\n",
    "uni2 = wp7.geom().create(\"uni2\", \"Union\")\n",
    "uni2.selection(\"input\").set(\"fil3\", \"r5\")\n",
    "uni2.set(\"intbnd\", False)\n",
    "wp7.geom().run(\"uni2\")\n",
    "\n",
    "mir2 = wp7.geom().create(\"mir2\", \"Mirror\")\n",
    "mir2.selection(\"input\").set(\"uni2\")\n",
    "mir2.set(\"pos\", ['0', 'chip_pos_y'])\n",
    "mir2.set(\"keep\", True)\n",
    "mir2.set(\"axis\", [0., 1.])\n",
    "wp7.geom().run(\"mir2\")\n",
    "wp7.label(\"Transmon pad\")\n",
    "\n",
    "r6 = wp7.geom().create(\"r6\", \"Rectangle\")\n",
    "r6.set(\"base\", \"center\")\n",
    "r6.set(\"size\", ['jj_width','jj_height'])\n",
    "r6.set(\"pos\", ['0', 'chip_pos_y'])\n",
    "wp7.geom().run(\"r6\")\n",
    "\n",
    "geom1.run(\"wp7\")"
   ]
  },
  {
   "cell_type": "code",
   "execution_count": 6,
   "id": "cff21df4",
   "metadata": {},
   "outputs": [
    {
     "data": {
      "text/plain": [
       "<java object 'com.comsol.clientapi.impl.ViewClient'>"
      ]
     },
     "execution_count": 6,
     "metadata": {},
     "output_type": "execute_result"
    }
   ],
   "source": [
    "# run geometry and set view after making everything\n",
    "geom1.run()\n",
    "comp1.view(\"view1\").set(\"transparency\", True)"
   ]
  },
  {
   "cell_type": "code",
   "execution_count": 7,
   "id": "101c96dc",
   "metadata": {},
   "outputs": [],
   "source": [
    "mesh1 = comp1.mesh().create(\"mesh1\")\n",
    "emw  = comp1.physics().create(\"emw\", \"ElectromagneticWaves\", \"geom1\")"
   ]
  },
  {
   "cell_type": "code",
   "execution_count": 8,
   "id": "64c038fa",
   "metadata": {},
   "outputs": [],
   "source": [
    "std1 = model.study().create(\"std1\")\n",
    "sol1 = model.sol().create(\"sol1\")\n",
    "sol1.study(\"std1\")"
   ]
  },
  {
   "cell_type": "code",
   "execution_count": 9,
   "id": "6bd44e4f",
   "metadata": {},
   "outputs": [],
   "source": [
    "pymodel.save('mph/CoaxCavity.mph')\n",
    "client.remove(pymodel)"
   ]
  }
 ],
 "metadata": {
  "kernelspec": {
   "display_name": "Python 3",
   "language": "python",
   "name": "python3"
  },
  "language_info": {
   "codemirror_mode": {
    "name": "ipython",
    "version": 3
   },
   "file_extension": ".py",
   "mimetype": "text/x-python",
   "name": "python",
   "nbconvert_exporter": "python",
   "pygments_lexer": "ipython3",
   "version": "3.12.11"
  }
 },
 "nbformat": 4,
 "nbformat_minor": 5
}
