{
 "cells": [
  {
   "cell_type": "code",
   "execution_count": 1,
   "id": "7f79bcad",
   "metadata": {},
   "outputs": [],
   "source": [
    "%load_ext autoreload\n",
    "%autoreload 2"
   ]
  },
  {
   "cell_type": "code",
   "execution_count": 2,
   "id": "9a58a48f",
   "metadata": {},
   "outputs": [],
   "source": [
    "import mph\n",
    "import pprint\n",
    "\n",
    "from pathlib import Path\n",
    "import sys\n",
    "sys.path.append(str(Path.cwd() / 'util/'))\n",
    "\n",
    "from functions import *\n",
    "from materials import *\n",
    "\n",
    "config = load_config( \"config/CoaxCavity.yaml\" )"
   ]
  },
  {
   "cell_type": "code",
   "execution_count": 3,
   "id": "e7661e6d",
   "metadata": {},
   "outputs": [],
   "source": [
    "client = mph.start()\n",
    "pymodel = client.create('CoaxCavity')"
   ]
  },
  {
   "cell_type": "code",
   "execution_count": 4,
   "id": "6c2e7c9c",
   "metadata": {},
   "outputs": [],
   "source": [
    "parameters = pymodel/'parameters'\n",
    "(parameters/'Parameters 1').rename('Parameters')\n",
    "\n",
    "for parameter in config['parameter']:\n",
    "    value = config['parameter'][parameter]\n",
    "    pymodel.parameter( parameter, value)"
   ]
  },
  {
   "cell_type": "code",
   "execution_count": 5,
   "id": "254218d4",
   "metadata": {},
   "outputs": [
    {
     "data": {
      "text/plain": [
       "<java object 'com.comsol.clientapi.impl.GeomSequenceClient'>"
      ]
     },
     "execution_count": 5,
     "metadata": {},
     "output_type": "execute_result"
    }
   ],
   "source": [
    "model = pymodel.java\n",
    "comp1 = model.component().create(\"comp1\", True)\n",
    "\n",
    "geom1 = comp1.geom().create(\"geom1\", 3) # 3 means 3D\n",
    "geom1.lengthUnit(\"mm\")\n",
    "geom1.run()\n",
    "\n",
    "\n",
    "# Make cavity box \n",
    "block1 = geom1.create(\"block1\", \"Block\")\n",
    "block1.set(\"pos\", [\"-box_length/2\", \"-box_length/2\", \"outer_height - box_height\"])\n",
    "block1.set(\"size\", [\"box_length\", \"box_length\", \"box_height\"])\n",
    "geom1.run(\"block1\")\n",
    "\n",
    "# Work plane 1\n",
    "wp1 = geom1.create(\"wp1\", \"WorkPlane\")\n",
    "wp1.set(\"unite\", True)\n",
    "c1 = wp1.geom().create(\"c1\", \"Circle\")\n",
    "c1.set(\"pos\",  [0., 0.] )\n",
    "c1.set(\"r\", 'outer_radius')\n",
    "wp1.geom().run(\"c1\")\n",
    "\n",
    "# Extrude 1\n",
    "ext1 = geom1.create(\"ext1\", \"Extrude\")\n",
    "ext1.set(\"workplane\", \"wp1\")\n",
    "ext1.selection(\"input\").set(\"wp1\")\n",
    "ext1.setIndex(\"distance\", 'outer_height', 0) # 0 means first row ?\n",
    "geom1.run(\"ext1\")\n",
    "\n",
    "\n",
    "# Work plane 2\n",
    "wp2 = geom1.create(\"wp2\", \"WorkPlane\")\n",
    "wp2.set(\"unite\", True)\n",
    "c2 = wp2.geom().create(\"c2\", \"Circle\")\n",
    "c2.set(\"pos\",  [0., 0.] )\n",
    "c2.set(\"r\", 'coax_radius')\n",
    "wp2.geom().run(\"c2\")\n",
    "\n",
    "# Extrude 2\n",
    "ext2 = geom1.create(\"ext2\", \"Extrude\")\n",
    "ext2.set(\"workplane\", \"wp2\")\n",
    "ext2.selection(\"input\").set(\"wp2\")\n",
    "ext2.setIndex(\"distance\", 'coax_height', 0)\n",
    "geom1.run(\"ext2\")\n",
    "\n",
    "# Subtract\n",
    "diff1 = geom1.create(\"diff1\", \"Difference\")\n",
    "diff1.selection(\"input\").set(\"block1\")\n",
    "diff1.selection(\"input2\").set(\"ext1\")\n",
    "geom1.run(\"diff1\")\n",
    "\n",
    "# Union 1\n",
    "uni1 = geom1.create(\"uni1\", \"Union\")\n",
    "uni1.selection(\"input\").set(\"diff1\", \"ext2\")\n",
    "uni1.set(\"intbnd\", False)\n",
    "geom1.run(\"uni1\")\n",
    "\n",
    "\n",
    "\n",
    "# Block\n",
    "boundary = geom1.create(\"boundary\", \"Block\")\n",
    "boundary.set(\"pos\", [\"-box_length/2\", \"-box_length/2\", \"outer_height - box_height\"])\n",
    "boundary.set(\"size\", [\"box_length\", \"box_length\", \"box_height\"])\n",
    "geom1.run(\"boundary\")\n",
    "\n",
    "# Subtract\n",
    "air = geom1.create(\"air\", \"Difference\")\n",
    "air.selection(\"input\").set(\"boundary\")\n",
    "air.selection(\"input2\").set(\"uni1\")\n",
    "air.set(\"keepsubtract\", True)\n",
    "geom1.run(\"air\")\n",
    "\n",
    "\n",
    "# Work plane 6\n",
    "wp6 = geom1.create(\"wp6\", \"WorkPlane\")\n",
    "wp6.set(\"unite\", True)\n",
    "wp6.set(\"quickz\", \"chip_pos_z - wafer_height\")\n",
    "r3 = wp6.geom().create(\"r3\", \"Rectangle\")\n",
    "r3.set(\"base\", \"center\")\n",
    "r3.set(\"pos\", ['0', 'chip_pos_y'])\n",
    "r3.set(\"size\", ['wafer_width', 'wafer_length'])\n",
    "wp6.geom().run(\"r3\")\n",
    "wp6.label(\"Chip\")\n",
    "geom1.run(\"wp6\")\n",
    "\n",
    "# Extrude 6\n",
    "ext6 = geom1.create(\"ext6\", \"Extrude\")\n",
    "ext6.set(\"workplane\", \"wp6\")\n",
    "ext6.selection(\"input\").set(\"wp6\")\n",
    "ext6.setIndex(\"distance\", 'wafer_height', 0)\n",
    "geom1.run(\"ext6\")\n",
    "\n",
    "# Work plane 7\n",
    "wp7 = geom1.create(\"wp7\", \"WorkPlane\")\n",
    "wp7.set(\"unite\", True)\n",
    "wp7.set(\"quickz\", \"chip_pos_z\")\n",
    "r4 = wp7.geom().create(\"r4\", \"Rectangle\")\n",
    "r4.set(\"size\", ['chip_width', 'chip_height'])\n",
    "r4.set(\"base\", \"center\")\n",
    "r4.set(\"pos\", ['0', 'chip_pos_y + chip_height/2 + chip_gap/2'])\n",
    "wp7.geom().run(\"r4\")\n",
    "\n",
    "fil3 = wp7.geom().create(\"fil3\", \"Fillet\")\n",
    "fil3.selection(\"pointinsketch\").set(\"r4\", 1, 2, 3, 4)\n",
    "fil3.set(\"radius\", 'chip_fillet')\n",
    "wp7.geom().run(\"fil3\")\n",
    "\n",
    "r5 = wp7.geom().create(\"r5\", \"Rectangle\")\n",
    "r5.set(\"base\", \"center\")\n",
    "r5.set(\"pos\", ['0', 'chip_pos_y + jj_height/2 + finger_height/2'])\n",
    "r5.set(\"size\", [\"jj_width\", \"finger_height\"])\n",
    "wp7.geom().run(\"r5\")\n",
    "\n",
    "# Union 2\n",
    "uni2 = wp7.geom().create(\"uni2\", \"Union\")\n",
    "uni2.selection(\"input\").set(\"fil3\", \"r5\")\n",
    "uni2.set(\"intbnd\", False)\n",
    "wp7.geom().run(\"uni2\")\n",
    "\n",
    "mir2 = wp7.geom().create(\"mir2\", \"Mirror\")\n",
    "mir2.selection(\"input\").set(\"uni2\")\n",
    "mir2.set(\"pos\", ['0', 'chip_pos_y'])\n",
    "mir2.set(\"keep\", True)\n",
    "mir2.set(\"axis\", [0., 1.])\n",
    "wp7.geom().run(\"mir2\")\n",
    "wp7.label(\"Transmon pad\")\n",
    "\n",
    "r6 = wp7.geom().create(\"r6\", \"Rectangle\")\n",
    "r6.set(\"base\", \"center\")\n",
    "r6.set(\"size\", ['jj_width','jj_height'])\n",
    "r6.set(\"pos\", ['0', 'chip_pos_y'])\n",
    "wp7.geom().run(\"r6\")\n",
    "\n",
    "geom1.run(\"wp7\")\n"
   ]
  },
  {
   "cell_type": "code",
   "execution_count": 6,
   "id": "cff21df4",
   "metadata": {},
   "outputs": [
    {
     "data": {
      "text/plain": [
       "<java object 'com.comsol.clientapi.impl.ViewClient'>"
      ]
     },
     "execution_count": 6,
     "metadata": {},
     "output_type": "execute_result"
    }
   ],
   "source": [
    "# run geometry and set view after making everything\n",
    "geom1.run()\n",
    "comp1.view(\"view1\").set(\"transparency\", True)"
   ]
  },
  {
   "cell_type": "code",
   "execution_count": 7,
   "id": "f1f9d9c5",
   "metadata": {},
   "outputs": [
    {
     "data": {
      "text/plain": [
       "<java object 'com.comsol.clientapi.impl.WorkPlaneFeatureClient'>"
      ]
     },
     "execution_count": 7,
     "metadata": {},
     "output_type": "execute_result"
    }
   ],
   "source": [
    "air.set(\"selresult\", True)\n",
    "uni1.set(\"selresult\", True)\n",
    "ext6.set(\"selresult\", True)\n",
    "wp7.set(\"selresult\", True)\n",
    "air.set(\"selresultshow\", \"all\")\n",
    "uni1.set(\"selresultshow\", \"all\")\n",
    "ext6.set(\"selresultshow\", \"all\")\n",
    "wp7.set(\"selresultshow\", \"all\")"
   ]
  },
  {
   "cell_type": "markdown",
   "id": "298ac885",
   "metadata": {},
   "source": [
    "## Assign material"
   ]
  },
  {
   "cell_type": "code",
   "execution_count": 8,
   "id": "d247110b",
   "metadata": {},
   "outputs": [],
   "source": [
    "assign_material(node = comp1, material = \"air\", tag = \"mat3\", name = \"Air\", selection = \"geom1_air_dom\") # selection = 2\n",
    "assign_material(node = comp1, material = \"copper\", tag = \"mat2\", name = \"Copper\", selection = \"geom1_uni1_dom\") # selection = 1\n",
    "assign_material(node = comp1, material = \"silicon\", tag = \"mat1\", name = \"Silicon\", selection = \"geom1_ext6_dom\") # selection = 3"
   ]
  },
  {
   "cell_type": "code",
   "execution_count": 9,
   "id": "101c96dc",
   "metadata": {},
   "outputs": [],
   "source": [
    "mesh1 = comp1.mesh().create(\"mesh1\")\n",
    "emw  = comp1.physics().create(\"emw\", \"ElectromagneticWaves\", \"geom1\")"
   ]
  },
  {
   "cell_type": "code",
   "execution_count": 10,
   "id": "1755398a",
   "metadata": {},
   "outputs": [
    {
     "data": {
      "text/plain": [
       "<java object 'com.comsol.clientapi.physics.impl.PhysicsFeatureClient'>"
      ]
     },
     "execution_count": 10,
     "metadata": {},
     "output_type": "execute_result"
    }
   ],
   "source": [
    "# pec1 is always defined as default\n",
    "pec2 = emw.create(\"pec2\", \"PerfectElectricConductor\", 2)\n",
    "pec2.selection().named(\"geom1_uni1_bnd\") # bnd means boundary?\n",
    "\n",
    "pec3 = emw.create(\"pec3\", \"PerfectElectricConductor\", 2)\n",
    "pec3.selection().named(\"geom1_wp7_bnd\")\n",
    "\n",
    "lelement1 = emw.create(\"lelement1\", \"LumpedElement\", 2)\n",
    "lelement1.selection().set(20)\n",
    "lelement1.set(\"LumpedElementType\", \"Inductor\")\n",
    "lelement1.set(\"Lelement\", \"chip_inductance\")"
   ]
  },
  {
   "cell_type": "code",
   "execution_count": 11,
   "id": "f846e63c",
   "metadata": {},
   "outputs": [],
   "source": [
    "mesh1.run()"
   ]
  },
  {
   "cell_type": "code",
   "execution_count": null,
   "id": "64c038fa",
   "metadata": {},
   "outputs": [
    {
     "data": {
      "text/plain": [
       "<java object 'com.comsol.clientapi.impl.StudyFeatureClient'>"
      ]
     },
     "execution_count": 12,
     "metadata": {},
     "output_type": "execute_result"
    }
   ],
   "source": [
    "std1 = model.study().create(\"std1\")\n",
    "eig = std1.create(\"eig\", \"Eigenfrequency\")\n",
    "eig.set(\"linpsolnum\", \"auto\")\n",
    "eig.set(\"solnum\", \"auto\")\n",
    "eig.set(\"notsolnum\", \"auto\")\n",
    "# eig.set(\"outputmap\", [\"\"])\n",
    "eig.set(\"ngenAUX\", \"1\")\n",
    "eig.set(\"goalngenAUX\", \"1\")\n",
    "eig.set(\"ngenAUX\", \"1\")\n",
    "eig.set(\"goalngenAUX\", \"1\")\n",
    "eig.setSolveFor(\"/physics/emw\", True)\n",
    "eig.set(\"shift\", \"5[GHz]\")\n",
    "# eig.set(\"neigs\", 4) # Number of eigen modes\n",
    "# eig.set(\"eigwhich\", \"si\") # Search for smallest imaginary part\n"
   ]
  },
  {
   "cell_type": "code",
   "execution_count": 13,
   "id": "6ee2beb7",
   "metadata": {},
   "outputs": [],
   "source": [
    "std1.createAutoSequences(\"all\")\n",
    "model.sol(\"sol1\").runAll()"
   ]
  },
  {
   "cell_type": "code",
   "execution_count": 14,
   "id": "589d1305",
   "metadata": {},
   "outputs": [],
   "source": [
    "pg1 = model.result().create(\"pg1\", \"PlotGroup3D\")\n",
    "pg1.label(\"Electric Field (emw)\")\n",
    "pg1.set(\"data\", \"dset1\")\n",
    "pg1.set(\"frametype\", \"spatial\")\n",
    "pg1.set(\"showlegendsmaxmin\", True)\n",
    "pg1.selection().named(\"geom1_air_dom\")\n",
    "\n",
    "mslc1 = pg1.feature().create(\"mslc1\", \"Multislice\")\n",
    "mslc1.label(\"Multislice\")\n",
    "mslc1.set(\"showsolutionparams\", \"on\")\n",
    "mslc1.set(\"smooth\", \"internal\")\n",
    "mslc1.set(\"showsolutionparams\", \"on\")\n",
    "mslc1.set(\"data\", \"parent\")\n",
    "mslc1.set(\"znumber\", \"0\")\n",
    "mslc1.set(\"ynumber\", \"0\")\n",
    "mslc1.set(\"colortable\", \"RainbowClassic\")\n",
    "mslc1.set(\"colorscalemode\", \"logarithmic\")\n",
    "mslc1.feature().create(\"filt1\", \"Filter\")\n",
    "mslc1.feature(\"filt1\").set(\"expr\", \"!isScalingSystemDomain\")\n",
    "\n",
    "\n",
    "gev1 = model.result().numerical().create(\"gev1\", \"EvalGlobal\")\n",
    "gev1.label(\"Eigenfrequencies (emw)\")\n",
    "gev1.set(\"data\", \"dset1\")\n",
    "gev1.set(\"expr\", [\"emw.freq\", \"emw.Qfactor\"])\n",
    "gev1.set(\"unit\", [\"GHz\", \"1\"])\n",
    "\n",
    "tbl1 = model.result().table().create(\"tbl1\", \"Table\")\n",
    "gev1.set(\"table\", \"tbl1\")\n",
    "gev1.run()\n",
    "gev1.setResult()\n",
    "\n",
    "pg1.run()\n"
   ]
  },
  {
   "cell_type": "code",
   "execution_count": 15,
   "id": "6bd44e4f",
   "metadata": {},
   "outputs": [],
   "source": [
    "pymodel.save('mph/CoaxCavity.mph')\n",
    "client.remove(pymodel)"
   ]
  }
 ],
 "metadata": {
  "kernelspec": {
   "display_name": "Python 3",
   "language": "python",
   "name": "python3"
  },
  "language_info": {
   "codemirror_mode": {
    "name": "ipython",
    "version": 3
   },
   "file_extension": ".py",
   "mimetype": "text/x-python",
   "name": "python",
   "nbconvert_exporter": "python",
   "pygments_lexer": "ipython3",
   "version": "3.12.11"
  }
 },
 "nbformat": 4,
 "nbformat_minor": 5
}
