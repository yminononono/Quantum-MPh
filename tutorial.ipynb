{
 "cells": [
  {
   "cell_type": "code",
   "execution_count": 1,
   "id": "27d339f7",
   "metadata": {},
   "outputs": [],
   "source": [
    "import mph"
   ]
  },
  {
   "cell_type": "code",
   "execution_count": null,
   "id": "d9190090",
   "metadata": {},
   "outputs": [],
   "source": [
    "client = mph.start()\n",
    "model = client.load('mph/capacitor.mph')"
   ]
  },
  {
   "cell_type": "code",
   "execution_count": 3,
   "id": "a4fbc95f",
   "metadata": {},
   "outputs": [
    {
     "data": {
      "text/plain": [
       "['capacitor']"
      ]
     },
     "execution_count": 3,
     "metadata": {},
     "output_type": "execute_result"
    }
   ],
   "source": [
    "client.names()"
   ]
  },
  {
   "cell_type": "code",
   "execution_count": 4,
   "id": "7ac3e644",
   "metadata": {},
   "outputs": [
    {
     "data": {
      "text/plain": [
       "[Model('capacitor')]"
      ]
     },
     "execution_count": 4,
     "metadata": {},
     "output_type": "execute_result"
    }
   ],
   "source": [
    "client.models()"
   ]
  },
  {
   "cell_type": "code",
   "execution_count": 6,
   "id": "8c903b88",
   "metadata": {},
   "outputs": [
    {
     "name": "stdout",
     "output_type": "stream",
     "text": [
      "applied voltage      U = 1[V]\n",
      "electrode spacing    d = 2[mm]\n",
      "plate length         l = 10[mm]\n",
      "plate width          w = 2[mm]\n"
     ]
    }
   ],
   "source": [
    "for (name, value) in model.parameters().items():\n",
    "    description = model.description(name)\n",
    "    print(f'{description:20} {name} = {value}')"
   ]
  },
  {
   "cell_type": "code",
   "execution_count": 7,
   "id": "d0a5eb00",
   "metadata": {},
   "outputs": [],
   "source": [
    "model.build()"
   ]
  },
  {
   "cell_type": "code",
   "execution_count": 8,
   "id": "21669997",
   "metadata": {},
   "outputs": [],
   "source": [
    "model.mesh()"
   ]
  },
  {
   "cell_type": "code",
   "execution_count": 9,
   "id": "663cd187",
   "metadata": {},
   "outputs": [],
   "source": [
    "model.solve('static')"
   ]
  },
  {
   "cell_type": "code",
   "execution_count": 10,
   "id": "d92e0fbe",
   "metadata": {},
   "outputs": [],
   "source": [
    "model.solve('relaxation')\n",
    "model.solve('sweep')"
   ]
  },
  {
   "cell_type": "code",
   "execution_count": 11,
   "id": "d936a34b",
   "metadata": {},
   "outputs": [
    {
     "data": {
      "text/plain": [
       "array(0.73678541)"
      ]
     },
     "execution_count": 11,
     "metadata": {},
     "output_type": "execute_result"
    }
   ],
   "source": [
    "model.evaluate('2*es.intWe/U^2', 'pF')"
   ]
  },
  {
   "cell_type": "markdown",
   "id": "4af19cbc",
   "metadata": {},
   "source": [
    "## Remove model from client"
   ]
  },
  {
   "cell_type": "code",
   "execution_count": 13,
   "id": "895376fd",
   "metadata": {},
   "outputs": [],
   "source": [
    "client.remove(model)"
   ]
  }
 ],
 "metadata": {
  "kernelspec": {
   "display_name": "Python 3",
   "language": "python",
   "name": "python3"
  },
  "language_info": {
   "codemirror_mode": {
    "name": "ipython",
    "version": 3
   },
   "file_extension": ".py",
   "mimetype": "text/x-python",
   "name": "python",
   "nbconvert_exporter": "python",
   "pygments_lexer": "ipython3",
   "version": "3.12.11"
  }
 },
 "nbformat": 4,
 "nbformat_minor": 5
}
